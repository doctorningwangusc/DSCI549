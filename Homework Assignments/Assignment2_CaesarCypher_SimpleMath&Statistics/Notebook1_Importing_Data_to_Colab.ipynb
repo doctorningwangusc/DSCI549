{
 "cells": [
  {
   "cell_type": "markdown",
   "metadata": {
    "colab_type": "text",
    "id": "Z7jmPo6sk3P9"
   },
   "source": [
    "# A Notebook to Learn to Import Data in Colab"
   ]
  },
  {
   "cell_type": "markdown",
   "metadata": {
    "colab_type": "text",
    "id": "DH1PnXCKm-J0"
   },
   "source": [
    "## Downloading Dataset from the Internet"
   ]
  },
  {
   "cell_type": "markdown",
   "metadata": {
    "colab_type": "text",
    "id": "4sz6WyhHqHUD"
   },
   "source": [
    "We are using the !wget command to download the lenses.data file directly from the archive.ics.uci.edu website. \n",
    "\n",
    "You can check the folder icon and click on the 'lenses.data' file to view the contents. "
   ]
  },
  {
   "cell_type": "code",
   "execution_count": null,
   "metadata": {
    "colab": {},
    "colab_type": "code",
    "id": "EdeZY9iIwbFB"
   },
   "outputs": [],
   "source": [
    "!wget https://archive.ics.uci.edu/ml/machine-learning-databases/lenses/lenses.data"
   ]
  },
  {
   "cell_type": "markdown",
   "metadata": {
    "colab_type": "text",
    "id": "GQ9ambwyq60V"
   },
   "source": [
    "## Uploading Dataset from the Local Machine"
   ]
  },
  {
   "cell_type": "markdown",
   "metadata": {
    "colab_type": "text",
    "id": "XkIULbFKq_zU"
   },
   "source": [
    "Go inside the Data Folder in the following website: https://archive.ics.uci.edu/ml/datasets/Forest+Fires and download the 'forestfires.csv' file on your local machine.\n",
    "\n",
    "Click on the Folder icon and upload the file you just downloaded by clicking on the 'Upload to session storage' icon. "
   ]
  },
  {
   "cell_type": "markdown",
   "metadata": {
    "colab_type": "text",
    "id": "ZqCFoiNGsx3i"
   },
   "source": [
    "Dataframe is a pandas object which is a two dimensional labeled data structure with rows and columns. You can think of it like a spreadsheet or SQL table.\n",
    "\n",
    "Run the read_csv command to create a new dataframe and view the contents of the file. "
   ]
  },
  {
   "cell_type": "code",
   "execution_count": null,
   "metadata": {
    "colab": {},
    "colab_type": "code",
    "id": "EH03tvl1wd-c"
   },
   "outputs": [],
   "source": [
    "import pandas as pd\n",
    "df = pd.read_csv(\"forestfires.csv\")\n",
    "display(df)"
   ]
  },
  {
   "cell_type": "markdown",
   "metadata": {
    "colab_type": "text",
    "id": "4koxIGDHtZKe"
   },
   "source": [
    "To get more information about the dataset, you should always read the names file. "
   ]
  }
 ],
 "metadata": {
  "colab": {
   "name": "Notebook1_Importing_Data_to_Colab.ipynb",
   "provenance": []
  },
  "kernelspec": {
   "display_name": "Python 3 (ipykernel)",
   "language": "python",
   "name": "python3"
  },
  "language_info": {
   "codemirror_mode": {
    "name": "ipython",
    "version": 3
   },
   "file_extension": ".py",
   "mimetype": "text/x-python",
   "name": "python",
   "nbconvert_exporter": "python",
   "pygments_lexer": "ipython3",
   "version": "3.12.4"
  }
 },
 "nbformat": 4,
 "nbformat_minor": 4
}
